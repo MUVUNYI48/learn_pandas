{
 "cells": [
  {
   "cell_type": "code",
   "execution_count": 3,
   "metadata": {},
   "outputs": [
    {
     "ename": "IndentationError",
     "evalue": "unexpected indent (898242123.py, line 12)",
     "output_type": "error",
     "traceback": [
      "\u001b[1;36m  Cell \u001b[1;32mIn[3], line 12\u001b[1;36m\u001b[0m\n\u001b[1;33m    DATA=df[(df[\"value\"]>=df[\"value\"].quantile(0.025))&(df[\"value\"]>=df[\"value\"].quantile(0.975))]\u001b[0m\n\u001b[1;37m    ^\u001b[0m\n\u001b[1;31mIndentationError\u001b[0m\u001b[1;31m:\u001b[0m unexpected indent\n"
     ]
    }
   ],
   "source": [
    "import matplotlib.pyplot as plt\n",
    "import pandas as pd\n",
    "import seaborn as sns\n",
    "from pandas.plotting import register_matplotlib_converters\n",
    "registers_matplotlib_converters()\n",
    "\n",
    "df=pd.read_csv(\"fcc-forum-pageviews.csv\",parse_dates=[\"date\"],index_col=\"date\")\n",
    " \n",
    " \n",
    "#  clean data\n",
    "\n",
    " DATA=df[(df[\"value\"]>=df[\"value\"].quantile(0.025))&(df[\"value\"]>=df[\"value\"].quantile(0.975))]\n",
    " \n",
    " def draw_line_plot():\n",
    "    #  draw line plot\n",
    "    fig,ax=plot.subplots(figsize(10,5))\n",
    "    ax.plot(DATA.index,DATA[\"value\"],'r',linewidth=1)\n",
    "    \n",
    "    ax.set_title('Daily freecodecamp forum pageviews 5/2016-12/2019')\n",
    "    ax.set_xlabel('Date')\n",
    "    ax.set_ylabel('Page Views')\n",
    "    \n",
    "    \n",
    "    fig.savefig('line_plot.png')\n",
    "    \n",
    "    return fig\n",
    " \n",
    " \n",
    "def draw_bar_plot():\n",
    "    DATA[\"month\"] =DATA.index.month\n",
    "    DATA[\"year\"] =DATA.index.year\n",
    "    DATA_bar=DATA.groupby(DATA[\"year\",\"month\"])[\"value\"].mean()\n",
    "    DATA_bar=DATA_bar.unstack()\n",
    "    \n",
    "    \n",
    "    \n",
    "    fig=DATA_bar.plot.bar(legend=True,figsize=(13,5),ylabel=\"Average Page Views\",xlabel=\"years\").figure\n",
    "    \n",
    "    plt.legend(['January', 'February', 'March', 'April', 'May', 'June', 'July', 'August', 'September', 'October', 'November','December'])\n",
    "     \n",
    "    plt.xticks(fontsize=8)\n",
    "    plt.yticks(fontsize=8)\n",
    "    \n",
    "    \n",
    "def draw_box_plot():\n",
    "    DATA_box=DATA.copy()\n",
    "    DATA_box.reset_index(inplace=True)\n",
    "    DATA_box['year']=[d.year for d in DATA_box.date]\n",
    "    DATA_box['month']=[d.strftime('%b') for d in DATA_box.date]\n",
    "    \n",
    "    # fig=plot.subplots()\n",
    "    \n",
    "    DATA_box[\"month_num\"]=DATA_box[\"date\"].dt.month\n",
    "    DATA_box=DATA_box.sort_values('month_num')\n",
    "    \n",
    "    fig,axes=plt.subplots(nrows,ncols,figsize=(10,5))\n",
    "    \n",
    "    axes[0]=sns.boxplot(x=DATA_box['year'],y=DATA_box['value'],ax=axes[0])\n",
    "    axes[1]=sns.boxplot(x=DATA_box['month'],y=DATA_box['value'],ax=axes[1])\n",
    "    \n",
    "    \n",
    "    axes[0].set_title('Year-wise Box Plot (Trend)')\n",
    "    axes[0].set_xlabel('Year')\n",
    "    axes[0].set_ylabel('Page Views')\n",
    "    \n",
    "    axes[1].set_title('month-wise Box Plot (seasonality)')\n",
    "    axes[1].set_xlabel('Month')\n",
    "    axes[1].set_ylabel('Page Views')\n",
    "    \n",
    "    fig.savefig('box_plot.png')\n",
    "    return fig"
   ]
  }
 ],
 "metadata": {
  "kernelspec": {
   "display_name": "base",
   "language": "python",
   "name": "python3"
  },
  "language_info": {
   "codemirror_mode": {
    "name": "ipython",
    "version": 3
   },
   "file_extension": ".py",
   "mimetype": "text/x-python",
   "name": "python",
   "nbconvert_exporter": "python",
   "pygments_lexer": "ipython3",
   "version": "3.11.5"
  }
 },
 "nbformat": 4,
 "nbformat_minor": 2
}

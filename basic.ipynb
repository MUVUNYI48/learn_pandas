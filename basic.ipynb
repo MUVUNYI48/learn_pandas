{
 "cells": [
  {
   "cell_type": "code",
   "execution_count": null,
   "metadata": {},
   "outputs": [],
   "source": [
    "print('hello')"
   ]
  },
  {
   "cell_type": "code",
   "execution_count": null,
   "metadata": {},
   "outputs": [],
   "source": [
    "import this "
   ]
  },
  {
   "cell_type": "markdown",
   "metadata": {},
   "source": [
    "#EXTRACTION OF DIGITS"
   ]
  },
  {
   "cell_type": "code",
   "execution_count": null,
   "metadata": {},
   "outputs": [],
   "source": [
    "def extract_number(number):\n",
    "    remaining_nbr=number\n",
    "    print(number)\n",
    "    count=0\n",
    "    while remaining_nbr>0:\n",
    "        print('remaining:',remaining_nbr)\n",
    "        digit=remaining_nbr%10\n",
    "        # remaining_nbr=remaining_nbr//10\n",
    "        # remaining_nbr,digit=divmod(remaining_nbr,digit)\n",
    "        remaining_nbr=remaining_nbr//10\n",
    "        count+=1\n",
    "        print(digit,\"end=\")\n",
    "    # print()\n",
    "    return(count)#  his used when to get digit of number\n",
    "extract_number(20)"
   ]
  },
  {
   "cell_type": "markdown",
   "metadata": {},
   "source": [
    " #pandas data table representation"
   ]
  },
  {
   "cell_type": "code",
   "execution_count": null,
   "metadata": {},
   "outputs": [],
   "source": [
    "import pandas as pd\n",
    "df=pd.DataFrame(\n",
    "  {\n",
    "  \"Age\": [22, 35, 58,20,10,23,34,45],\n",
    "  \"Name\":[\n",
    "  \"Braund,Mr.OwenHarris\",\n",
    "  \"Allen,Mr.WilliamHenry\",\n",
    "  \"Bonnell,Miss.Elizabeth\",\n",
    "  \"Braund,Mr.OwenHarris\",\n",
    "  \"Allen,Mr.WilliamHenry\",\n",
    "  \"Bonnell,Miss.Elizabeth\",\n",
    "  \"patrick.Muvunyi\",\n",
    "  \"data,dataframe\"\n",
    "  ],\n",
    " \"Sex\": [\"male\", \"male\", \"female\",\"male\", \"male\", \"female\",\"male\", \"male\"],\n",
    "})\n",
    "df"
   ]
  },
  {
   "cell_type": "code",
   "execution_count": null,
   "metadata": {},
   "outputs": [],
   "source": [
    "df.loc[1:1]"
   ]
  },
  {
   "cell_type": "code",
   "execution_count": null,
   "metadata": {},
   "outputs": [],
   "source": [
    "# df.Age[2]\n",
    "# df.Age.mean()\n",
    "df.describe()"
   ]
  },
  {
   "cell_type": "code",
   "execution_count": null,
   "metadata": {},
   "outputs": [],
   "source": [
    "import numpy as np\n",
    "data=pd.Series([1,2,3,4,np.nan,5])\n",
    "# //convert from the DataFrame to numpy\n",
    "data.to_numpy"
   ]
  },
  {
   "cell_type": "code",
   "execution_count": null,
   "metadata": {},
   "outputs": [],
   "source": [
    "# this transpose data\n",
    "data.T"
   ]
  },
  {
   "cell_type": "markdown",
   "metadata": {},
   "source": [
    "#sort by axis"
   ]
  },
  {
   "cell_type": "code",
   "execution_count": null,
   "metadata": {},
   "outputs": [],
   "source": [
    "we use the axis=1 or 0\n",
    "df.sort_index(axis=0,ascending=False)\n"
   ]
  },
  {
   "cell_type": "markdown",
   "metadata": {},
   "source": [
    "#sorting by values"
   ]
  },
  {
   "cell_type": "code",
   "execution_count": null,
   "metadata": {},
   "outputs": [],
   "source": [
    "df.sort_values(by=\"Age\")"
   ]
  },
  {
   "cell_type": "markdown",
   "metadata": {},
   "source": [
    "selection"
   ]
  },
  {
   "cell_type": "code",
   "execution_count": null,
   "metadata": {},
   "outputs": [],
   "source": [
    "df.Name  # and this works df['Name']\n",
    "df.loc[:,[\"Age\",\"Name\"]] #"
   ]
  },
  {
   "cell_type": "code",
   "execution_count": null,
   "metadata": {},
   "outputs": [],
   "source": [
    "# Selection by position\n",
    "\n",
    "df.loc[5,\"Name\"] # index and column\n",
    "# df.loc[Age[0],\"Name\"]\n",
    "df2=df.copy()\n",
    "#  Settingvaluesbylabel:\n",
    "# df.at[Age[0],[\"Name\"]]\n",
    "df.isin[Name=='Braund,Mr.OwenHarris']"
   ]
  },
  {
   "cell_type": "markdown",
   "metadata": {},
   "source": [
    "#date time"
   ]
  },
  {
   "cell_type": "code",
   "execution_count": null,
   "metadata": {},
   "outputs": [],
   "source": [
    "# daterange=pd.date_range('20240506',periods=6)\n",
    "#  df2 =pd.DataFrame(\n",
    "#      {\n",
    "#         \"A\":1.0,\n",
    "#         \"B\":pd.Timestamp(\"20130102\"),\n",
    "#         \"C\":pd.Series(1,index=list(range(4)),dtype=\"float32\"),\n",
    "#         \"D\":np.array([3]*4,dtype=\"int32\"),\n",
    "#         \"E\":pd.Categorical([\"test\",\"train\",\"test\",\"train\"]),\n",
    "#         \"F\":\"foo\",\n",
    "#      }\n",
    "#  )"
   ]
  },
  {
   "cell_type": "code",
   "execution_count": null,
   "metadata": {},
   "outputs": [],
   "source": [
    "import pandas as pd\n",
    "import numpy as np\n",
    "\n",
    "s = pd.Series([np.nan, 1, 2, np.nan, 3])\n",
    "s = s.fillna(method='ffill')\n",
    "\n",
    "print(s)\n",
    "\n",
    "# --------------------------------\n",
    "\n",
    "import numpy as np\n",
    "\n",
    "a = np.array(([1, 2, 3, 4, 5], [6, 7, 8, 9, 10]))\n",
    "b = np.max(a, axis=1).sum()\n",
    "\n",
    "# --------------------------\n",
    "\n",
    "a = np.ones((2, 4))\n",
    "b = a.reshape((4, 2))\n",
    "print(b)\n",
    "\n",
    "# output\n",
    "\n",
    "\n",
    "\n",
    "# ---------------------------------\n",
    "\n",
    "filedata = np.genfromtxt('data.txt', delimiter=',')\n",
    "output = filedata[filedata < 50]\n",
    "\n",
    "print(output)"
   ]
  },
  {
   "cell_type": "markdown",
   "metadata": {},
   "source": [
    "#FORM PANDAS BOOK"
   ]
  },
  {
   "cell_type": "code",
   "execution_count": null,
   "metadata": {},
   "outputs": [],
   "source": [
    "import pandas as pd \n",
    "import numpy as np \n",
    "num_securities = 1000 \n",
    "num_periods = 1000 \n",
    "period_frequency = 'W' \n",
    "start_date = '2000-12-31' \n",
    " \n",
    "np.random.seed([3,1415]) \n",
    " \n",
    "means = [0, 0] \n",
    "covariance = [[  1., 5e-3], \n",
    "              [5e-3,   1.]] \n",
    " \n",
    "# generates to sets of data m[0] and m[1] with ~0.005 correlation \n",
    "m = np.random.multivariate_normal(means, covariance, \n",
    "                                  (num_periods, num_securities)).T\n",
    "m"
   ]
  },
  {
   "cell_type": "markdown",
   "metadata": {},
   "source": []
  },
  {
   "cell_type": "markdown",
   "metadata": {},
   "source": [
    "#w3chools"
   ]
  },
  {
   "cell_type": "markdown",
   "metadata": {},
   "source": []
  },
  {
   "cell_type": "code",
   "execution_count": null,
   "metadata": {},
   "outputs": [],
   "source": [
    "import pandas\n",
    "\n",
    "myDataset={\n",
    "    'cars':['bmw',\"audi\",'benz'],\n",
    "    'passing':[1,3,7]\n",
    "}\n",
    "print(pandas._version_)\n",
    "myData=pandas.DataFrame(myDataset)\n",
    "myData"
   ]
  },
  {
   "cell_type": "markdown",
   "metadata": {},
   "source": [
    "#Series"
   ]
  },
  {
   "cell_type": "code",
   "execution_count": 10,
   "metadata": {},
   "outputs": [
    {
     "data": {
      "text/plain": [
       "1     muvunyi\n",
       "2     patrick\n",
       "3    software\n",
       "dtype: object"
      ]
     },
     "execution_count": 10,
     "metadata": {},
     "output_type": "execute_result"
    }
   ],
   "source": [
    "import pandas as pd\n",
    "\n",
    "a=['muvunyi','patrick','software']\n",
    "my_series=pd.Series(a,index=[1,2,3])\n",
    "my_series"
   ]
  },
  {
   "cell_type": "code",
   "execution_count": 50,
   "metadata": {},
   "outputs": [
    {
     "name": "stdout",
     "output_type": "stream",
     "text": [
      "60\n"
     ]
    }
   ],
   "source": [
    "'''data={\n",
    "    'name':[\"patrick\",\"muvunyi\",\"patrick\",\"software\"],\n",
    "    'age':[21,22,23,24]\n",
    "}\n",
    "\n",
    "details=pd.DataFrame(data)'''\n",
    "print(pd.options.display.max_rows)\n"
   ]
  },
  {
   "cell_type": "markdown",
   "metadata": {},
   "source": [
    "#cleaning data by using dropna"
   ]
  },
  {
   "cell_type": "markdown",
   "metadata": {},
   "source": []
  },
  {
   "cell_type": "code",
   "execution_count": 59,
   "metadata": {},
   "outputs": [
    {
     "name": "stdout",
     "output_type": "stream",
     "text": [
      "          Duration          Date  Pulse  Maxpulse  Calories\n",
      "0     0         60  '2020/12/01'    110       130     409.1\n",
      "1     1         60  '2020/12/02'    117       145     479.0\n",
      "2     2         60  '2020/12/03'    103       135     340.0\n",
      "3     3         45  '2020/12/04'    109       175     282.4\n",
      "4     4         45  '2020/12/05'    117       148     406.0\n",
      "5     5         60  '2020/12/06'    102       127     300.0\n",
      "6     6         60  '2020/12/07'    110       136     374.0\n",
      "7     7        450  '2020/12/08'    104       134     253.3\n",
      "8     8         30  '2020/12/09'    109       133     195.1\n",
      "9     9         60  '2020/12/10'     98       124     269.0\n",
      "10    10        60  '2020/12/11'    103       147     329.3\n",
      "11    11        60  '2020/12/12'    100       120     250.7\n",
      "12    12        60  '2020/12/12'    100       120     250.7\n",
      "13    13        60  '2020/12/13'    106       128     345.3\n",
      "14    14        60  '2020/12/14'    104       132     379.3\n",
      "15    15        60  '2020/12/15'     98       123     275.0\n",
      "16    16        60  '2020/12/16'     98       120     215.2\n",
      "17    17        60  '2020/12/17'    100       120     300.0\n",
      "18    18        45  '2020/12/18'     90       112       NaN\n",
      "19    19        60  '2020/12/19'    103       123     323.0\n",
      "20    20        45  '2020/12/20'     97       125     243.0\n",
      "21    21        60  '2020/12/21'    108       131     364.2\n",
      "22    22        45           NaN    100       119     282.0\n",
      "23    23        60  '2020/12/23'    130       101     300.0\n",
      "24    24        45  '2020/12/24'    105       132     246.0\n",
      "25    25        60  '2020/12/25'    102       126     334.5\n",
      "26    26        60    2020/12/26    100       120     250.0\n",
      "27    27        60  '2020/12/27'     92       118     241.0\n",
      "28    28        60  '2020/12/28'    103       132       NaN\n",
      "29    29        60  '2020/12/29'    100       132     280.0\n",
      "30    30        60  '2020/12/30'    102       129     380.3\n",
      "31    31        60  '2020/12/31'     92       115     243.0\n"
     ]
    }
   ],
   "source": [
    "DATA=pd.read_csv('data.csv')\n",
    "NEW_DATA=DATA.dropna()\n",
    "\n",
    "#Return a new Data Frame with no empty cells:\n",
    "\n",
    "print(NEW_DATA.to_string())\n",
    "\n",
    "#Remove all rows with NULL values\n",
    "\n",
    "NEW_DATA=DATA.dropna(inplace=True)\n",
    "NEW_DATA\n"
   ]
  },
  {
   "cell_type": "markdown",
   "metadata": {},
   "source": [
    "#Replace Empyt cells by using fillna"
   ]
  },
  {
   "cell_type": "code",
   "execution_count": 65,
   "metadata": {},
   "outputs": [],
   "source": [
    "NEW_DATA2=DATA.fillna(130,inplace=True)\n",
    "NEW_DATA2"
   ]
  }
 ],
 "metadata": {
  "kernelspec": {
   "display_name": "base",
   "language": "python",
   "name": "python3"
  },
  "language_info": {
   "codemirror_mode": {
    "name": "ipython",
    "version": 3
   },
   "file_extension": ".py",
   "mimetype": "text/x-python",
   "name": "python",
   "nbconvert_exporter": "python",
   "pygments_lexer": "ipython3",
   "version": "3.11.5"
  }
 },
 "nbformat": 4,
 "nbformat_minor": 2
}

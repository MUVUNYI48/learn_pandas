{
 "cells": [
  {
   "cell_type": "code",
   "execution_count": null,
   "metadata": {},
   "outputs": [],
   "source": [
    "# Medical examanition"
   ]
  },
  {
   "cell_type": "markdown",
   "metadata": {},
   "source": []
  },
  {
   "cell_type": "code",
   "execution_count": 7,
   "metadata": {},
   "outputs": [
    {
     "ename": "AttributeError",
     "evalue": "module 'numpy' has no attribute 'trui'",
     "output_type": "error",
     "traceback": [
      "\u001b[1;31m---------------------------------------------------------------------------\u001b[0m",
      "\u001b[1;31mAttributeError\u001b[0m                            Traceback (most recent call last)",
      "Cell \u001b[1;32mIn[7], line 50\u001b[0m\n\u001b[0;32m     44\u001b[0m     \u001b[38;5;28;01mreturn\u001b[39;00m fig\n\u001b[0;32m     47\u001b[0m     fig\u001b[38;5;241m.\u001b[39msavefig(\u001b[38;5;124m\"\u001b[39m\u001b[38;5;124mheatmap.png\u001b[39m\u001b[38;5;124m\"\u001b[39m)\n\u001b[1;32m---> 50\u001b[0m draw_heat_map()\n",
      "Cell \u001b[1;32mIn[7], line 37\u001b[0m, in \u001b[0;36mdraw_heat_map\u001b[1;34m()\u001b[0m\n\u001b[0;32m     27\u001b[0m df_heat\u001b[38;5;241m=\u001b[39mdf[\n\u001b[0;32m     28\u001b[0m     (df[\u001b[38;5;124m'\u001b[39m\u001b[38;5;124map_lo\u001b[39m\u001b[38;5;124m'\u001b[39m]\u001b[38;5;241m<\u001b[39m\u001b[38;5;241m=\u001b[39mdf[\u001b[38;5;124m'\u001b[39m\u001b[38;5;124map_hi\u001b[39m\u001b[38;5;124m'\u001b[39m])\u001b[38;5;241m&\u001b[39m\n\u001b[0;32m     29\u001b[0m     (df[\u001b[38;5;124m'\u001b[39m\u001b[38;5;124mheight\u001b[39m\u001b[38;5;124m'\u001b[39m]\u001b[38;5;241m>\u001b[39m\u001b[38;5;241m=\u001b[39mdf[\u001b[38;5;124m'\u001b[39m\u001b[38;5;124mheight\u001b[39m\u001b[38;5;124m'\u001b[39m]\u001b[38;5;241m.\u001b[39mquantile(\u001b[38;5;241m0.025\u001b[39m))\u001b[38;5;241m&\u001b[39m\n\u001b[1;32m   (...)\u001b[0m\n\u001b[0;32m     32\u001b[0m     (df[\u001b[38;5;124m'\u001b[39m\u001b[38;5;124mweight\u001b[39m\u001b[38;5;124m'\u001b[39m]\u001b[38;5;241m>\u001b[39m\u001b[38;5;241m=\u001b[39mdf[\u001b[38;5;124m'\u001b[39m\u001b[38;5;124mweight\u001b[39m\u001b[38;5;124m'\u001b[39m]\u001b[38;5;241m.\u001b[39mquantile(\u001b[38;5;241m0.975\u001b[39m))\n\u001b[0;32m     33\u001b[0m     ]\n\u001b[0;32m     35\u001b[0m corr\u001b[38;5;241m=\u001b[39mdf_heat\u001b[38;5;241m.\u001b[39mcorr()\n\u001b[1;32m---> 37\u001b[0m mask\u001b[38;5;241m=\u001b[39mnp\u001b[38;5;241m.\u001b[39mtrui(np\u001b[38;5;241m.\u001b[39mones_like(corr,dtype\u001b[38;5;241m=\u001b[39m\u001b[38;5;28mbool\u001b[39m))\n\u001b[0;32m     39\u001b[0m fig,ax\u001b[38;5;241m=\u001b[39mplot\u001b[38;5;241m.\u001b[39msunbplots(figsize\u001b[38;5;241m=\u001b[39m(\u001b[38;5;241m12\u001b[39m,\u001b[38;5;241m12\u001b[39m))\n\u001b[0;32m     40\u001b[0m sns\u001b[38;5;241m.\u001b[39mheatmap(corr,vmin\u001b[38;5;241m=\u001b[39m\u001b[38;5;241m0\u001b[39m,vmax\u001b[38;5;241m=\u001b[39m\u001b[38;5;241m0.25\u001b[39m,fmt\u001b[38;5;241m=\u001b[39m\u001b[38;5;124m'\u001b[39m\u001b[38;5;124m.1f\u001b[39m\u001b[38;5;124m'\u001b[39m,linewidth\u001b[38;5;241m=\u001b[39m\u001b[38;5;241m1\u001b[39m,annot\u001b[38;5;241m=\u001b[39m\u001b[38;5;28;01mTrue\u001b[39;00m,square\u001b[38;5;241m=\u001b[39m\u001b[38;5;28;01mTrue\u001b[39;00m,mask\u001b[38;5;241m=\u001b[39mmask,cbar_kws\u001b[38;5;241m=\u001b[39m{\u001b[38;5;124m'\u001b[39m\u001b[38;5;124mshrink\u001b[39m\u001b[38;5;124m'\u001b[39m:\u001b[38;5;241m82\u001b[39m})\n",
      "File \u001b[1;32mc:\\ProgramData\\anaconda3\\Lib\\site-packages\\numpy\\__init__.py:320\u001b[0m, in \u001b[0;36m__getattr__\u001b[1;34m(attr)\u001b[0m\n\u001b[0;32m    317\u001b[0m     \u001b[38;5;28;01mfrom\u001b[39;00m \u001b[38;5;21;01m.\u001b[39;00m\u001b[38;5;21;01mtesting\u001b[39;00m \u001b[38;5;28;01mimport\u001b[39;00m Tester\n\u001b[0;32m    318\u001b[0m     \u001b[38;5;28;01mreturn\u001b[39;00m Tester\n\u001b[1;32m--> 320\u001b[0m \u001b[38;5;28;01mraise\u001b[39;00m \u001b[38;5;167;01mAttributeError\u001b[39;00m(\u001b[38;5;124m\"\u001b[39m\u001b[38;5;124mmodule \u001b[39m\u001b[38;5;132;01m{!r}\u001b[39;00m\u001b[38;5;124m has no attribute \u001b[39m\u001b[38;5;124m\"\u001b[39m\n\u001b[0;32m    321\u001b[0m                      \u001b[38;5;124m\"\u001b[39m\u001b[38;5;132;01m{!r}\u001b[39;00m\u001b[38;5;124m\"\u001b[39m\u001b[38;5;241m.\u001b[39mformat(\u001b[38;5;18m__name__\u001b[39m, attr))\n",
      "\u001b[1;31mAttributeError\u001b[0m: module 'numpy' has no attribute 'trui'"
     ]
    }
   ],
   "source": [
    "import pandas as pd\n",
    "import seaborn as sns\n",
    "import matplotlib.pyplot as plt\n",
    "import numpy as np\n",
    "\n",
    "df=pd.read_csv(\"medical_examination.csv\")\n",
    "df[\"overweight\"]=np.where((df[\"weight\"]/np.square(df[\"height\"]/100))>25,1,0)\n",
    "\n",
    "df[\"cholesterol\"]=np.where(df[\"cholesterol\"]==1,0,1)\n",
    "df[\"gluc\"]=np.where(df[\"gluc\"]==1,0,1)\n",
    "\n",
    "def draw_cat_plot():\n",
    "    df_cat=pd.melt(df,id_vars=[\"cardio\"],value_vars=[\"active\",\"alco\",\"cholestrol\",\"gluc\",\"overweight\",\"smoke\"])\n",
    "    \n",
    "    figure=sns.catplot(x=\"variable\",kind=\"count\",hue=\"value\",data=df_cat,col=\"cardio\")\n",
    "    \n",
    "    figure.set_axis_label(\"varible\",\"total\")\n",
    "    \n",
    "    fig=figure\n",
    "    \n",
    "    fig.savefig('catplot.png')\n",
    "    \n",
    "    return fig\n",
    "\n",
    "def draw_heat_map():\n",
    "    \n",
    "    df_heat=df[\n",
    "        (df['ap_lo']<=df['ap_hi'])&\n",
    "        (df['height']>=df['height'].quantile(0.025))&\n",
    "        (df['height']>=df['height'].quantile(0.975))&\n",
    "        (df['weight']>=df['weight'].quantile(0.025))&\n",
    "        (df['weight']>=df['weight'].quantile(0.975))\n",
    "        ]\n",
    "    \n",
    "    corr=df_heat.corr()\n",
    "    \n",
    "    mask=np.trui(np.ones_like(corr,dtype=bool))\n",
    "    \n",
    "    fig,ax=plot.sunbplots(figsize=(12,12))\n",
    "    sns.heatmap(corr,vmin=0,vmax=0.25,fmt='.1f',linewidth=1,annot=True,square=True,mask=mask,cbar_kws={'shrink':82})\n",
    "    \n",
    "    \n",
    "    fig.savefig(\"heatmap.png\")\n",
    "    return fig\n",
    "    \n",
    "    \n",
    "    fig.savefig(\"heatmap.png\")\n",
    "    \n",
    "    \n",
    "draw_heat_map()\n",
    "\n"
   ]
  }
 ],
 "metadata": {
  "kernelspec": {
   "display_name": "base",
   "language": "python",
   "name": "python3"
  },
  "language_info": {
   "codemirror_mode": {
    "name": "ipython",
    "version": 3
   },
   "file_extension": ".py",
   "mimetype": "text/x-python",
   "name": "python",
   "nbconvert_exporter": "python",
   "pygments_lexer": "ipython3",
   "version": "3.11.5"
  }
 },
 "nbformat": 4,
 "nbformat_minor": 2
}
